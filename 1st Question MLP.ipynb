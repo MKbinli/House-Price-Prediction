{
 "cells": [
  {
   "cell_type": "code",
   "execution_count": 1,
   "id": "ffd50c30",
   "metadata": {},
   "outputs": [
    {
     "name": "stderr",
     "output_type": "stream",
     "text": [
      "Using TensorFlow backend.\n"
     ]
    }
   ],
   "source": [
    "import numpy as np\n",
    "import pandas as pd\n",
    "import tensorflow as tf\n",
    "from keras.layers.embeddings import Embedding\n",
    "from keras.models import Model\n",
    "from keras.layers import Concatenate, Dense, Input, concatenate,Flatten, Reshape\n",
    "import keras\n",
    "\n",
    "tf.compat.v1.enable_eager_execution()"
   ]
  },
  {
   "cell_type": "code",
   "execution_count": 2,
   "id": "7b9f5287",
   "metadata": {},
   "outputs": [],
   "source": [
    "dataset=pd.read_csv(\"avazuTrainDataset.csv\", na_values = \"?\")"
   ]
  },
  {
   "cell_type": "code",
   "execution_count": 3,
   "id": "a5048111",
   "metadata": {},
   "outputs": [
    {
     "data": {
      "text/html": [
       "<div>\n",
       "<style scoped>\n",
       "    .dataframe tbody tr th:only-of-type {\n",
       "        vertical-align: middle;\n",
       "    }\n",
       "\n",
       "    .dataframe tbody tr th {\n",
       "        vertical-align: top;\n",
       "    }\n",
       "\n",
       "    .dataframe thead th {\n",
       "        text-align: right;\n",
       "    }\n",
       "</style>\n",
       "<table border=\"1\" class=\"dataframe\">\n",
       "  <thead>\n",
       "    <tr style=\"text-align: right;\">\n",
       "      <th></th>\n",
       "      <th>id</th>\n",
       "      <th>click</th>\n",
       "      <th>hour</th>\n",
       "      <th>C1</th>\n",
       "      <th>banner_pos</th>\n",
       "      <th>site_id</th>\n",
       "      <th>site_domain</th>\n",
       "      <th>site_category</th>\n",
       "      <th>app_id</th>\n",
       "      <th>app_domain</th>\n",
       "      <th>...</th>\n",
       "      <th>device_type</th>\n",
       "      <th>device_conn_type</th>\n",
       "      <th>C14</th>\n",
       "      <th>C15</th>\n",
       "      <th>C16</th>\n",
       "      <th>C17</th>\n",
       "      <th>C18</th>\n",
       "      <th>C19</th>\n",
       "      <th>C20</th>\n",
       "      <th>C21</th>\n",
       "    </tr>\n",
       "  </thead>\n",
       "  <tbody>\n",
       "    <tr>\n",
       "      <th>0</th>\n",
       "      <td>10006777279679619273</td>\n",
       "      <td>0</td>\n",
       "      <td>2014-10-21 00:00:00</td>\n",
       "      <td>1005</td>\n",
       "      <td>0</td>\n",
       "      <td>85f751fd</td>\n",
       "      <td>c4e18dd6</td>\n",
       "      <td>50e219e0</td>\n",
       "      <td>d2bb6502</td>\n",
       "      <td>2347f47a</td>\n",
       "      <td>...</td>\n",
       "      <td>1</td>\n",
       "      <td>3</td>\n",
       "      <td>18987</td>\n",
       "      <td>320</td>\n",
       "      <td>50</td>\n",
       "      <td>2158</td>\n",
       "      <td>3</td>\n",
       "      <td>291</td>\n",
       "      <td>100193</td>\n",
       "      <td>61</td>\n",
       "    </tr>\n",
       "    <tr>\n",
       "      <th>1</th>\n",
       "      <td>10017726656797105592</td>\n",
       "      <td>0</td>\n",
       "      <td>2014-10-21 00:00:00</td>\n",
       "      <td>1005</td>\n",
       "      <td>0</td>\n",
       "      <td>543a539e</td>\n",
       "      <td>c7ca3108</td>\n",
       "      <td>3e814130</td>\n",
       "      <td>ecad2386</td>\n",
       "      <td>7801e8d9</td>\n",
       "      <td>...</td>\n",
       "      <td>1</td>\n",
       "      <td>0</td>\n",
       "      <td>20352</td>\n",
       "      <td>320</td>\n",
       "      <td>50</td>\n",
       "      <td>2333</td>\n",
       "      <td>0</td>\n",
       "      <td>39</td>\n",
       "      <td>-1</td>\n",
       "      <td>157</td>\n",
       "    </tr>\n",
       "    <tr>\n",
       "      <th>2</th>\n",
       "      <td>10017963219731982376</td>\n",
       "      <td>0</td>\n",
       "      <td>2014-10-21 00:00:00</td>\n",
       "      <td>1005</td>\n",
       "      <td>0</td>\n",
       "      <td>1fbe01fe</td>\n",
       "      <td>f3845767</td>\n",
       "      <td>28905ebd</td>\n",
       "      <td>ecad2386</td>\n",
       "      <td>7801e8d9</td>\n",
       "      <td>...</td>\n",
       "      <td>1</td>\n",
       "      <td>0</td>\n",
       "      <td>15704</td>\n",
       "      <td>320</td>\n",
       "      <td>50</td>\n",
       "      <td>1722</td>\n",
       "      <td>0</td>\n",
       "      <td>35</td>\n",
       "      <td>-1</td>\n",
       "      <td>79</td>\n",
       "    </tr>\n",
       "    <tr>\n",
       "      <th>3</th>\n",
       "      <td>10020717995127086125</td>\n",
       "      <td>0</td>\n",
       "      <td>2014-10-21 00:00:00</td>\n",
       "      <td>1005</td>\n",
       "      <td>0</td>\n",
       "      <td>1fbe01fe</td>\n",
       "      <td>f3845767</td>\n",
       "      <td>28905ebd</td>\n",
       "      <td>ecad2386</td>\n",
       "      <td>7801e8d9</td>\n",
       "      <td>...</td>\n",
       "      <td>1</td>\n",
       "      <td>0</td>\n",
       "      <td>15704</td>\n",
       "      <td>320</td>\n",
       "      <td>50</td>\n",
       "      <td>1722</td>\n",
       "      <td>0</td>\n",
       "      <td>35</td>\n",
       "      <td>-1</td>\n",
       "      <td>79</td>\n",
       "    </tr>\n",
       "    <tr>\n",
       "      <th>4</th>\n",
       "      <td>10022961149355219548</td>\n",
       "      <td>0</td>\n",
       "      <td>2014-10-21 00:00:00</td>\n",
       "      <td>1005</td>\n",
       "      <td>0</td>\n",
       "      <td>85f751fd</td>\n",
       "      <td>c4e18dd6</td>\n",
       "      <td>50e219e0</td>\n",
       "      <td>e2fcccd2</td>\n",
       "      <td>5c5a694b</td>\n",
       "      <td>...</td>\n",
       "      <td>1</td>\n",
       "      <td>0</td>\n",
       "      <td>4687</td>\n",
       "      <td>320</td>\n",
       "      <td>50</td>\n",
       "      <td>423</td>\n",
       "      <td>2</td>\n",
       "      <td>39</td>\n",
       "      <td>100148</td>\n",
       "      <td>32</td>\n",
       "    </tr>\n",
       "  </tbody>\n",
       "</table>\n",
       "<p>5 rows × 24 columns</p>\n",
       "</div>"
      ],
      "text/plain": [
       "                     id  click                 hour    C1  banner_pos  \\\n",
       "0  10006777279679619273      0  2014-10-21 00:00:00  1005           0   \n",
       "1  10017726656797105592      0  2014-10-21 00:00:00  1005           0   \n",
       "2  10017963219731982376      0  2014-10-21 00:00:00  1005           0   \n",
       "3  10020717995127086125      0  2014-10-21 00:00:00  1005           0   \n",
       "4  10022961149355219548      0  2014-10-21 00:00:00  1005           0   \n",
       "\n",
       "    site_id site_domain site_category    app_id app_domain  ... device_type  \\\n",
       "0  85f751fd    c4e18dd6      50e219e0  d2bb6502   2347f47a  ...           1   \n",
       "1  543a539e    c7ca3108      3e814130  ecad2386   7801e8d9  ...           1   \n",
       "2  1fbe01fe    f3845767      28905ebd  ecad2386   7801e8d9  ...           1   \n",
       "3  1fbe01fe    f3845767      28905ebd  ecad2386   7801e8d9  ...           1   \n",
       "4  85f751fd    c4e18dd6      50e219e0  e2fcccd2   5c5a694b  ...           1   \n",
       "\n",
       "  device_conn_type    C14  C15  C16   C17  C18  C19     C20  C21  \n",
       "0                3  18987  320   50  2158    3  291  100193   61  \n",
       "1                0  20352  320   50  2333    0   39      -1  157  \n",
       "2                0  15704  320   50  1722    0   35      -1   79  \n",
       "3                0  15704  320   50  1722    0   35      -1   79  \n",
       "4                0   4687  320   50   423    2   39  100148   32  \n",
       "\n",
       "[5 rows x 24 columns]"
      ]
     },
     "execution_count": 3,
     "metadata": {},
     "output_type": "execute_result"
    }
   ],
   "source": [
    "dataset.head()"
   ]
  },
  {
   "cell_type": "code",
   "execution_count": 4,
   "id": "0736df97",
   "metadata": {},
   "outputs": [
    {
     "data": {
      "text/plain": [
       "0    830536\n",
       "1    169464\n",
       "Name: click, dtype: int64"
      ]
     },
     "execution_count": 4,
     "metadata": {},
     "output_type": "execute_result"
    }
   ],
   "source": [
    "#The dasaset has an imbalance on label.Therefore we will make it balanced randomly choosing more data with respect to click==1\n",
    "dataset[\"click\"].value_counts()"
   ]
  },
  {
   "cell_type": "code",
   "execution_count": 5,
   "id": "7c18db7e",
   "metadata": {},
   "outputs": [],
   "source": [
    "dataset=pd.read_csv(\"balancedAvazuTrainDataset.csv\", na_values = \"?\")"
   ]
  },
  {
   "cell_type": "code",
   "execution_count": 6,
   "id": "b7b6713c",
   "metadata": {},
   "outputs": [
    {
     "data": {
      "text/plain": [
       "1    500000\n",
       "0    500000\n",
       "Name: click, dtype: int64"
      ]
     },
     "execution_count": 6,
     "metadata": {},
     "output_type": "execute_result"
    }
   ],
   "source": [
    "#we have chose our data balanced which is \"# of clicked=0 equals to # of clicked=1\"\n",
    "dataset[\"click\"].value_counts()"
   ]
  },
  {
   "cell_type": "code",
   "execution_count": 7,
   "id": "55cab7a4",
   "metadata": {},
   "outputs": [
    {
     "data": {
      "text/plain": [
       "Unnamed: 0          0\n",
       "id                  0\n",
       "click               0\n",
       "hour                0\n",
       "C1                  0\n",
       "banner_pos          0\n",
       "site_id             0\n",
       "site_domain         0\n",
       "site_category       0\n",
       "app_id              0\n",
       "app_domain          0\n",
       "app_category        0\n",
       "device_id           0\n",
       "device_ip           0\n",
       "device_model        0\n",
       "device_type         0\n",
       "device_conn_type    0\n",
       "C14                 0\n",
       "C15                 0\n",
       "C16                 0\n",
       "C17                 0\n",
       "C18                 0\n",
       "C19                 0\n",
       "C20                 0\n",
       "C21                 0\n",
       "dtype: int64"
      ]
     },
     "execution_count": 7,
     "metadata": {},
     "output_type": "execute_result"
    }
   ],
   "source": [
    "#Check for NaN values\n",
    "dataset.isna().sum()"
   ]
  },
  {
   "cell_type": "code",
   "execution_count": 8,
   "id": "51a7650f",
   "metadata": {},
   "outputs": [
    {
     "data": {
      "text/html": [
       "<div>\n",
       "<style scoped>\n",
       "    .dataframe tbody tr th:only-of-type {\n",
       "        vertical-align: middle;\n",
       "    }\n",
       "\n",
       "    .dataframe tbody tr th {\n",
       "        vertical-align: top;\n",
       "    }\n",
       "\n",
       "    .dataframe thead th {\n",
       "        text-align: right;\n",
       "    }\n",
       "</style>\n",
       "<table border=\"1\" class=\"dataframe\">\n",
       "  <thead>\n",
       "    <tr style=\"text-align: right;\">\n",
       "      <th></th>\n",
       "      <th>user_id</th>\n",
       "      <th>item_id</th>\n",
       "      <th>target</th>\n",
       "    </tr>\n",
       "  </thead>\n",
       "  <tbody>\n",
       "    <tr>\n",
       "      <th>0</th>\n",
       "      <td>13608768438520409857</td>\n",
       "      <td>ecad2386</td>\n",
       "      <td>0</td>\n",
       "    </tr>\n",
       "    <tr>\n",
       "      <th>1</th>\n",
       "      <td>14692274859831145929</td>\n",
       "      <td>92f5800b</td>\n",
       "      <td>0</td>\n",
       "    </tr>\n",
       "    <tr>\n",
       "      <th>2</th>\n",
       "      <td>17090449056914370228</td>\n",
       "      <td>ecad2386</td>\n",
       "      <td>0</td>\n",
       "    </tr>\n",
       "    <tr>\n",
       "      <th>3</th>\n",
       "      <td>7188639805966656812</td>\n",
       "      <td>ecad2386</td>\n",
       "      <td>0</td>\n",
       "    </tr>\n",
       "    <tr>\n",
       "      <th>4</th>\n",
       "      <td>245941207644775581</td>\n",
       "      <td>ecad2386</td>\n",
       "      <td>1</td>\n",
       "    </tr>\n",
       "    <tr>\n",
       "      <th>...</th>\n",
       "      <td>...</td>\n",
       "      <td>...</td>\n",
       "      <td>...</td>\n",
       "    </tr>\n",
       "    <tr>\n",
       "      <th>499995</th>\n",
       "      <td>377358469892694884</td>\n",
       "      <td>7358e05e</td>\n",
       "      <td>1</td>\n",
       "    </tr>\n",
       "    <tr>\n",
       "      <th>499996</th>\n",
       "      <td>14653219386271282421</td>\n",
       "      <td>92f5800b</td>\n",
       "      <td>0</td>\n",
       "    </tr>\n",
       "    <tr>\n",
       "      <th>499997</th>\n",
       "      <td>13894820425956565476</td>\n",
       "      <td>ecad2386</td>\n",
       "      <td>0</td>\n",
       "    </tr>\n",
       "    <tr>\n",
       "      <th>499998</th>\n",
       "      <td>15207322995760605924</td>\n",
       "      <td>ecad2386</td>\n",
       "      <td>1</td>\n",
       "    </tr>\n",
       "    <tr>\n",
       "      <th>499999</th>\n",
       "      <td>7024205773795532485</td>\n",
       "      <td>3e2bf98d</td>\n",
       "      <td>1</td>\n",
       "    </tr>\n",
       "  </tbody>\n",
       "</table>\n",
       "<p>500000 rows × 3 columns</p>\n",
       "</div>"
      ],
      "text/plain": [
       "                     user_id   item_id  target\n",
       "0       13608768438520409857  ecad2386       0\n",
       "1       14692274859831145929  92f5800b       0\n",
       "2       17090449056914370228  ecad2386       0\n",
       "3        7188639805966656812  ecad2386       0\n",
       "4         245941207644775581  ecad2386       1\n",
       "...                      ...       ...     ...\n",
       "499995    377358469892694884  7358e05e       1\n",
       "499996  14653219386271282421  92f5800b       0\n",
       "499997  13894820425956565476  ecad2386       0\n",
       "499998  15207322995760605924  ecad2386       1\n",
       "499999   7024205773795532485  3e2bf98d       1\n",
       "\n",
       "[500000 rows x 3 columns]"
      ]
     },
     "execution_count": 8,
     "metadata": {},
     "output_type": "execute_result"
    }
   ],
   "source": [
    "#Selecting user_id and item_id\n",
    "questionDf=pd.DataFrame(columns=[\"user_id\",\"item_id\",\"target\"])\n",
    "questionDf[\"user_id\"]=dataset[\"id\"].copy()\n",
    "questionDf[\"item_id\"]=dataset[\"app_id\"].copy()\n",
    "questionDf[\"target\"]=dataset[\"click\"].copy()\n",
    "#Training was so slow for my machine with 1M samples,therefore I reduced the sample size (sorry!)\n",
    "questionDf=questionDf.sample(n=500000)\n",
    "questionDf.reset_index(drop=True,inplace=True)\n",
    "questionDf"
   ]
  },
  {
   "cell_type": "code",
   "execution_count": 9,
   "id": "a6dc926d",
   "metadata": {},
   "outputs": [],
   "source": [
    "itemIdCategorySize=len(questionDf[\"item_id\"].value_counts())\n",
    "userIdCategorySize=len(questionDf[\"user_id\"].value_counts())"
   ]
  },
  {
   "cell_type": "code",
   "execution_count": 10,
   "id": "3f4935c7",
   "metadata": {},
   "outputs": [],
   "source": [
    "latent_factor=10\n",
    "regularizationFactor=0.00001\n",
    "learningRate=0.0001\n",
    "neuronSize=32\n",
    "itemIdEmbeddingVectorL1 = Input(shape=[1])\n",
    "itemIdEmbeddingVectorL2 = Embedding(itemIdCategorySize, latent_factor)(itemIdEmbeddingVectorL1)"
   ]
  },
  {
   "cell_type": "code",
   "execution_count": 11,
   "id": "20bf8596",
   "metadata": {},
   "outputs": [],
   "source": [
    "itemIdEmbeddingVectorL3=Reshape(target_shape=(latent_factor,))(itemIdEmbeddingVectorL2)"
   ]
  },
  {
   "cell_type": "code",
   "execution_count": 12,
   "id": "68f4da0a",
   "metadata": {},
   "outputs": [],
   "source": [
    "userIdEmbeddingVectorL1 = Input(shape=[1])\n",
    "userIdEmbeddingVectorL2 = Embedding(userIdCategorySize, latent_factor)(userIdEmbeddingVectorL1)"
   ]
  },
  {
   "cell_type": "code",
   "execution_count": 13,
   "id": "df1e369a",
   "metadata": {},
   "outputs": [],
   "source": [
    "userIdEmbeddingVectorL3=Reshape(target_shape=(latent_factor,))(userIdEmbeddingVectorL2)"
   ]
  },
  {
   "cell_type": "code",
   "execution_count": 20,
   "id": "18fc031d",
   "metadata": {},
   "outputs": [],
   "source": [
    "combinedL2 = Concatenate(axis=1)([itemIdEmbeddingVectorL3, userIdEmbeddingVectorL3])\n",
    "combinedL3 = Reshape(target_shape=(latent_factor*2,))(combinedL2) \n",
    "#combinedL3 = Flatten()(combinedL2) \n",
    "denseL1=Dense(neuronSize,kernel_initializer='glorot_normal',activation='relu',kernel_regularizer=keras.regularizers.l2(regularizationFactor))(combinedL3)\n",
    "denseL2=Dense(1, activation='sigmoid')(denseL1)"
   ]
  },
  {
   "cell_type": "code",
   "execution_count": 21,
   "id": "d5563e0a",
   "metadata": {
    "scrolled": true
   },
   "outputs": [],
   "source": [
    "optimizer = tf.keras.optimizers.Adam(learning_rate=learningRate, beta_1=0.99, beta_2=0.999)\n",
    "MLP = Model(inputs=[itemIdEmbeddingVectorL1, userIdEmbeddingVectorL1], outputs=[denseL2])\n",
    "MLP.compile(optimizer=optimizer , loss='binary_crossentropy', metrics=[keras.metrics.AUC()])"
   ]
  },
  {
   "cell_type": "code",
   "execution_count": 22,
   "id": "b572c789",
   "metadata": {
    "scrolled": true
   },
   "outputs": [
    {
     "name": "stdout",
     "output_type": "stream",
     "text": [
      "Model: \"model_2\"\n",
      "__________________________________________________________________________________________________\n",
      "Layer (type)                    Output Shape         Param #     Connected to                     \n",
      "==================================================================================================\n",
      "input_1 (InputLayer)            (None, 1)            0                                            \n",
      "__________________________________________________________________________________________________\n",
      "input_2 (InputLayer)            (None, 1)            0                                            \n",
      "__________________________________________________________________________________________________\n",
      "embedding_1 (Embedding)         (None, 1, 10)        23950       input_1[0][0]                    \n",
      "__________________________________________________________________________________________________\n",
      "embedding_2 (Embedding)         (None, 1, 10)        5000000     input_2[0][0]                    \n",
      "__________________________________________________________________________________________________\n",
      "reshape_1 (Reshape)             (None, 10)           0           embedding_1[0][0]                \n",
      "__________________________________________________________________________________________________\n",
      "reshape_2 (Reshape)             (None, 10)           0           embedding_2[0][0]                \n",
      "__________________________________________________________________________________________________\n",
      "concatenate_2 (Concatenate)     (None, 20)           0           reshape_1[0][0]                  \n",
      "                                                                 reshape_2[0][0]                  \n",
      "__________________________________________________________________________________________________\n",
      "reshape_4 (Reshape)             (None, 20)           0           concatenate_2[0][0]              \n",
      "__________________________________________________________________________________________________\n",
      "dense_3 (Dense)                 (None, 32)           672         reshape_4[0][0]                  \n",
      "__________________________________________________________________________________________________\n",
      "dense_4 (Dense)                 (None, 1)            33          dense_3[0][0]                    \n",
      "==================================================================================================\n",
      "Total params: 5,024,655\n",
      "Trainable params: 5,024,655\n",
      "Non-trainable params: 0\n",
      "__________________________________________________________________________________________________\n"
     ]
    }
   ],
   "source": [
    "MLP.summary()\n"
   ]
  },
  {
   "cell_type": "code",
   "execution_count": 23,
   "id": "d45d179c",
   "metadata": {},
   "outputs": [],
   "source": [
    "#itemData=np.array(questionDf[\"item_id\"].astype(str))\n",
    "#userData=np.array(questionDf[\"user_id\"])"
   ]
  },
  {
   "cell_type": "code",
   "execution_count": 24,
   "id": "0b694dd6",
   "metadata": {},
   "outputs": [],
   "source": [
    "#from keras.preprocessing.text import one_hot\n",
    "#itemDataOneHot = [one_hot(d, itemIdCategorySize) for d in itemData]\n",
    "#userDataOneHot = [one_hot(d, userIdCategorySize) for d in userData]\n",
    "users = questionDf.user_id.unique()\n",
    "userid2idx = {o:i for i,o in enumerate(users)}\n",
    "usersDataOneHot= questionDf[\"user_id\"].apply(lambda x: userid2idx[x])\n",
    "\n",
    "items = questionDf.item_id.unique()\n",
    "itemsid2idx = {o:i for i,o in enumerate(items)}\n",
    "itemsDataOneHot= questionDf[\"item_id\"].apply(lambda x: itemsid2idx[x])\n",
    "\n",
    "usersDataOneHot=np.array(usersDataOneHot)\n",
    "itemsDataOneHot=np.array(itemsDataOneHot)\n",
    "target=np.array(questionDf[\"target\"])"
   ]
  },
  {
   "cell_type": "code",
   "execution_count": 25,
   "id": "2639ce2c",
   "metadata": {
    "scrolled": false
   },
   "outputs": [
    {
     "name": "stdout",
     "output_type": "stream",
     "text": [
      "Train on 400000 samples, validate on 100000 samples\n",
      "Epoch 1/20\n",
      " - 1138s - loss: 0.6608 - auc_2: 0.6040 - val_loss: 0.6564 - val_auc_2: 0.6064\n"
     ]
    },
    {
     "name": "stderr",
     "output_type": "stream",
     "text": [
      "c:\\users\\casper\\appdata\\local\\programs\\python\\python37\\lib\\site-packages\\keras\\engine\\saving.py:165: UserWarning: TensorFlow optimizers do not make it possible to access optimizer attributes or optimizer state after instantiation. As a result, we cannot save the optimizer as part of the model save file.You will have to compile your model again after loading it. Prefer using a Keras optimizer instead (see keras.io/optimizers).\n",
      "  'TensorFlow optimizers do not '\n"
     ]
    },
    {
     "name": "stdout",
     "output_type": "stream",
     "text": [
      "Epoch 2/20\n",
      " - 1411s - loss: 0.6369 - auc_2: 0.6829 - val_loss: 0.6678 - val_auc_2: 0.6029\n",
      "Epoch 3/20\n",
      " - 1406s - loss: 0.5374 - auc_2: 0.8083 - val_loss: 0.7665 - val_auc_2: 0.5769\n",
      "Epoch 4/20\n",
      " - 1378s - loss: 0.3860 - auc_2: 0.9089 - val_loss: 0.9281 - val_auc_2: 0.5563\n",
      "Epoch 5/20\n",
      " - 1366s - loss: 0.2449 - auc_2: 0.9647 - val_loss: 1.1212 - val_auc_2: 0.5414\n",
      "Epoch 6/20\n",
      " - 1368s - loss: 0.1379 - auc_2: 0.9890 - val_loss: 1.3203 - val_auc_2: 0.5318\n"
     ]
    },
    {
     "data": {
      "text/plain": [
       "<keras.callbacks.callbacks.History at 0x1561c0fc908>"
      ]
     },
     "execution_count": 25,
     "metadata": {},
     "output_type": "execute_result"
    }
   ],
   "source": [
    "stop_noimprovement = keras.callbacks.EarlyStopping(patience=5)\n",
    "filepath=\"1stQuestionMLP.hdf5\"\n",
    "model_checkpoint = keras.callbacks.ModelCheckpoint(filepath, monitor='val_loss',\n",
    "                                                   save_best_only=True, mode='min')\n",
    "epochSize=20\n",
    "batchSize=32\n",
    "MLP.fit([itemsDataOneHot,usersDataOneHot], target, batch_size=batchSize,\n",
    "        epochs=epochSize, validation_split=0.2, verbose=2,\n",
    "        callbacks=[stop_noimprovement,model_checkpoint])"
   ]
  },
  {
   "cell_type": "code",
   "execution_count": null,
   "id": "43c4c3a3",
   "metadata": {},
   "outputs": [],
   "source": [
    "model = keras.models.load_model(modelName)"
   ]
  },
  {
   "cell_type": "code",
   "execution_count": null,
   "id": "19e2a98a",
   "metadata": {},
   "outputs": [],
   "source": [
    "#predictFuture = model.predict(predictSplit)"
   ]
  }
 ],
 "metadata": {
  "kernelspec": {
   "display_name": "Python 3 (ipykernel)",
   "language": "python",
   "name": "python3"
  },
  "language_info": {
   "codemirror_mode": {
    "name": "ipython",
    "version": 3
   },
   "file_extension": ".py",
   "mimetype": "text/x-python",
   "name": "python",
   "nbconvert_exporter": "python",
   "pygments_lexer": "ipython3",
   "version": "3.7.3"
  }
 },
 "nbformat": 4,
 "nbformat_minor": 5
}
